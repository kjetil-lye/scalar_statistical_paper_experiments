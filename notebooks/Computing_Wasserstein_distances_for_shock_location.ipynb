{
 "cells": [
  {
   "cell_type": "markdown",
   "metadata": {},
   "source": [
    "# Computing Wasserstein distances for the uncertain shock location\n",
    "\n",
    "At $T=0.2$, the exact solution is given as \n",
    "\n",
    "$$u(y;x,T)=\\begin{cases}1&x\\leq \\frac{1}{2}(1+T)+y\\\\\n",
    "0&\\text{otherwise}\\end{cases}\\qquad x\\in[0,1], y\\in[-0.1,0.1].$$\n",
    "\n",
    "Let $\\mu_T$ be the law of $u(\\cdot;\\cdot,T)$ (ie. the statistical solution). \n",
    "\n",
    "Our approximate solution is an esemble of Dirac deltas centered at FVM solutions\n",
    "\n",
    "$$\\mu^{\\Delta x,M}_T=\\frac{1}{M}\\sum_{k=1}^M \\delta_{u^{\\Delta x}_k(\\cdot,t)}$$\n",
    "\n",
    "After some disintegration and support considerations, we arrive at the final formula for the Wasserstein distance should be\n",
    "\n",
    "$$W_1(\\mu_T,\\mu^{\\Delta x,M}_T)=\\int_{-0.1}^{0.1} \\|u_{\\bar{k}(y)}^{\\Delta x}-u(y,\\cdot,T)\\|_{L^1([0,1])}\\frac{1}{0.2}\\; dy$$\n",
    "\n",
    "where\n",
    "$$\\bar{k}(y) = \\lfloor \\frac{M(y+0.1)}{0.2}\\rfloor$$\n",
    "where the samples are sorted according to \n",
    "\n",
    "$$ u^{\\Delta x}_k\\leq u^{\\Delta x}_l\\Leftrightarrow u^{\\Delta x}_k(x_i)\\leq u^{\\Delta x}_l(x_i)\\qquad \\text{for all }i=1,\\ldots,N_{\\Delta x}.$$\n",
    "\n",
    "That is, we divide the interval $[-0.1,0.1]$ into $M$ pieces, and assign $u_1$ the first interval, $u_2$ the second interval, and so on.\n",
    "\n",
    "**Claim** (Not requiring Miracle): The measure defined by\n",
    "$$f\\mapsto \\int_{-0.1}^{0.1}f(u(y,\\cdot,T),u^{\\Delta x}_{\\bar{k}(y)})\\frac{1}{0.2}\\;dy$$\n",
    "is in $\\Pi(\\mu_t,\\mu_t^{\\Delta x,M})$.\n",
    "\n",
    "**Claim** (Miracle): The above defined measure is optimal. The proof goes through disintegrating the measure.\n",
    "\n",
    "![Miracle](miracle.jpg)\n",
    "\n",
    "## Numerical algorithm\n",
    "\n",
    "1. Sort the samples according to (see next sections for when this is well-defined)\n",
    "$$ u^{\\Delta x}_k\\leq u^{\\Delta x}_l\\Leftrightarrow u^{\\Delta x}_k(x_i)\\leq u^{\\Delta x}_l(x_i)\\qquad \\text{for all }i=1,\\ldots,N_{\\Delta x}$$\n",
    "2. Discretize the parameter space:\n",
    "$$Y=[-0.1, 0.1] =\\bigcup_{y=1}^{N_y} [y_i,y_{i+1}]\\qquad \\text{where }|y_i-y_{i+1}|=\\Delta y\\approx \\Delta x/8$$\n",
    "5. For $y = y_1,\\ldots,y_{N_y}$:\n",
    "\n",
    "  a) Compute exact solution $u(y,x_j,T)$ for $j=1,\\ldots,N_{\\Delta x}$\n",
    "  \n",
    "  b) Compute current distance:\n",
    "  $$d^{k}_y=\\sum_i |u(y,x_i,T)-u^{\\Delta x}_{\\bar{k}(y)}(y,x_i,T)|\\Delta y$$\n",
    "  \n",
    "  e) Add contribution to the distance\n",
    "  \n",
    "  $$ distance \\leftarrow distance + d^k(y)\\Delta y$$\n"
   ]
  },
  {
   "cell_type": "code",
   "execution_count": 1,
   "metadata": {},
   "outputs": [],
   "source": [
    "import latex_plots\n",
    "\n",
    "import numpy as np\n",
    "import plot_info\n",
    "\n",
    "import matplotlib\n",
    "matplotlib.rcParams['errorbar.capsize'] = 3\n",
    "%matplotlib inline\n",
    "import matplotlib.pyplot as plt\n",
    "import netCDF4\n",
    "import functools\n",
    "import matplotlib2tikz\n",
    "import alsvinn"
   ]
  },
  {
   "cell_type": "code",
   "execution_count": 2,
   "metadata": {},
   "outputs": [
    {
     "name": "stdout",
     "output_type": "stream",
     "text": [
      "Overwriting shock_location.py\n"
     ]
    }
   ],
   "source": [
    "%%writefile shock_location.py\n",
    "# Initial data file\n",
    "Y = 0.2*X - 0.1\n",
    "if x <= 0.5 + Y:\n",
    "    u = 1.0\n",
    "else:\n",
    "    u = 0.0"
   ]
  },
  {
   "cell_type": "code",
   "execution_count": 3,
   "metadata": {},
   "outputs": [
    {
     "name": "stdout",
     "output_type": "stream",
     "text": [
      "Overwriting shock_location.xml\n"
     ]
    }
   ],
   "source": [
    "%%writefile shock_location.xml\n",
    "<config>\n",
    "<fvm>\n",
    "  <name>\n",
    "    shocklocation\n",
    "  </name>\n",
    "  <platform>cpu</platform>\n",
    "  <grid>\n",
    "    <lowerCorner>0 0 0</lowerCorner>\n",
    "    <upperCorner>1 0 0</upperCorner>\n",
    "    <dimension>32 1 1</dimension>\n",
    "  </grid>\n",
    "  <boundary>neumann</boundary>\n",
    "  <flux>godunov</flux>\n",
    "  <endTime>.2</endTime>\n",
    "  <equation>burgers</equation>\n",
    "  <reconstruction>weno2</reconstruction>\n",
    "  <cfl>auto</cfl>\n",
    "  <integrator>auto</integrator>\n",
    "  <initialData>\n",
    "    <python>shock_location.py</python>\n",
    "    <parameters>\n",
    "      <parameter>\n",
    "        <name>X</name>\n",
    "        <length>1</length>\n",
    "        <value>0</value>\n",
    "      </parameter>\n",
    "    </parameters>\n",
    "  </initialData>\n",
    "  <writer>\n",
    "    <basename>shock_location</basename>\n",
    "    <type>netcdf</type>\n",
    "    <numberOfSaves>1</numberOfSaves>\n",
    "  </writer>\n",
    "</fvm>\n",
    "<uq>\n",
    "  <samples>1</samples>\n",
    "  <generator>auto</generator>\n",
    "  <parameters>\n",
    "    <parameter>\n",
    "      <name>X</name>\n",
    "      <length>1</length>\n",
    "      <type>uniform</type>\n",
    "    </parameter>\n",
    "  </parameters>\n",
    "  <stats>\n",
    "  </stats>\n",
    "\n",
    "</uq>\n",
    "</config>\n"
   ]
  },
  {
   "cell_type": "code",
   "execution_count": 4,
   "metadata": {},
   "outputs": [],
   "source": [
    "def compare(u1, u2):\n",
    "    \"\"\"\n",
    "    Compares two numerical solutions against eachother.\n",
    "    \n",
    "    We say that \n",
    "    \n",
    "         u1 <= u2\n",
    "    \n",
    "    if \n",
    "        \n",
    "        u1[j] <= u2[j]     for all j in range(len(u1))\n",
    "    \"\"\"\n",
    "    \n",
    "    if not (u1<=u2).all() and not (u2<=u1).all():\n",
    "        raise Exception(\"Not well ordered!\")\n",
    "    if (u1 <= u2).all():\n",
    "        return -1\n",
    "    else:\n",
    "        return 1\n",
    "    "
   ]
  },
  {
   "cell_type": "markdown",
   "metadata": {},
   "source": [
    "# Some ordering tests\n",
    "\n",
    "The main point below is that if the use WENO2 (meaning third order reconstruction), the results are not well-ordered according to our ordering definition above."
   ]
  },
  {
   "cell_type": "code",
   "execution_count": null,
   "metadata": {
    "scrolled": false
   },
   "outputs": [
    {
     "data": {
      "image/png": "[encoded data removed]",
      "text/plain": [
       "<Figure size 432x288 with 1 Axes>"
      ]
     },
     "metadata": {
      "needs_background": "light"
     },
     "output_type": "display_data"
    },
    {
     "data": {
      "image/png": "[encoded data removed]",
      "text/plain": [
       "<Figure size 432x288 with 1 Axes>"
      ]
     },
     "metadata": {
      "needs_background": "light"
     },
     "output_type": "display_data"
    },
    {
     "data": {
      "image/png": "[encoded data removed]",
      "text/plain": [
       "<Figure size 432x288 with 1 Axes>"
      ]
     },
     "metadata": {
      "needs_background": "light"
     },
     "output_type": "display_data"
    },
    {
     "name": "stdout",
     "output_type": "stream",
     "text": [
      "Everything went well\n"
     ]
    }
   ],
   "source": [
    "\n",
    "\n",
    "def test(reconstruction):\n",
    "    resolution = 2**14\n",
    "    number_of_samples=128\n",
    "   \n",
    "    r = alsvinn.run(base_xml='shock_location.xml',\n",
    "                   reconstruction=reconstruction,\n",
    "                   dimension=[resolution, 1, 1],\n",
    "                   samples=number_of_samples,\n",
    "                   uq=True)\n",
    "    data = []\n",
    "    for k in range(number_of_samples):\n",
    "        plt.plot(r.get_data('u', timestep=0, sample=k))\n",
    "        data.append(r.get_data('u', timestep=0, sample=k))\n",
    "    plt.title(f\"Some samples for reconstruction: {reconstruction}\")\n",
    "    plt.show()\n",
    "    \n",
    "    for d in range(0,len(data),16):\n",
    "        plt.plot(data[d],label='%d' % d)\n",
    "    plt.legend()\n",
    "    plt.title('Before sorting')\n",
    "    plt.show()\n",
    "    try:\n",
    "        data = sorted(data,key=functools.cmp_to_key(compare))\n",
    "    except:\n",
    "        print(f\"Failed sorting samples with reconstruction: {reconstruction}\")\n",
    "        return\n",
    "    \n",
    "    for d in range(0,len(data),16):\n",
    "        plt.plot(data[d],label='%d' % d)\n",
    "    plt.legend()\n",
    "    plt.title(f\"After sorting, reconstruction: {reconstruction}\")\n",
    "    plt.show()\n",
    "    print(\"Everything went well\")\n",
    "\n",
    "# First we try with the low order:\n",
    "test(\"none\")\n",
    "\n",
    "# Then with the high order:\n",
    "test(\"weno2\")"
   ]
  },
  {
   "cell_type": "code",
   "execution_count": null,
   "metadata": {},
   "outputs": [],
   "source": [
    "def runAndSort(resolution, samples, experiment=0):\n",
    "    sample_start = experiment * samples\n",
    "    \n",
    "    r = alsvinn.run(base_xml = 'shock_location.xml',\n",
    "            samples=samples,\n",
    "            sampleStart=sample_start,\n",
    "            reconstruction='none'\n",
    "        )\n",
    "    \n",
    "    \n",
    "    data = []\n",
    "    for k in range(sample_start, sample_start+samples):\n",
    "        d = r.get_data('u', sample=k, timestep=0)\n",
    "        data.append(d)\n",
    "    data = sorted(data,key=functools.cmp_to_key(compare))\n",
    "    return data"
   ]
  },
  {
   "cell_type": "code",
   "execution_count": null,
   "metadata": {},
   "outputs": [],
   "source": [
    "def upscale(d,N):\n",
    "    while d.shape[0] < N:\n",
    "        d = repeat(d,2,0)\n",
    "    return d\n",
    "def l1distance(dataSample, shockLocation):\n",
    "    \n",
    "    x = np.linspace(0,1,dataSample.shape[0])\n",
    "    uExact = x <= shockLocation\n",
    "    \n",
    "    return np.sum(abs(dataSample - uExact))/dataSample.shape[0]\n",
    "\n",
    "def l2distance(dataSample, shockLocation):\n",
    "    \n",
    "    x = np.linspace(0,1,dataSample.shape[0])\n",
    "    uExact = x <= shockLocation\n",
    "    \n",
    "    return np.sqrt(np.sum(abs(dataSample - uExact)**2)/dataSample.shape[0])\n",
    "\n",
    "def wassersteinDistance(data, T):\n",
    "    shockLocation = lambda y: 0.5 + 0.5*T + y\n",
    "    M = len(data)\n",
    "    Y = np.linspace(-1/10.,1/10., 128*data[0].shape[0])\n",
    "   \n",
    "    dy = Y[1]-Y[0]\n",
    "    \n",
    "    distance = 0\n",
    "    \n",
    "    for (ny, y) in enumerate(Y):\n",
    "        s = shockLocation(y)\n",
    "        \n",
    "        currentDistance = l1distance(data[min(int((y+0.1)/0.2*M),M-1)], s)\n",
    "        distance += currentDistance * dy\n",
    "    return distance\n",
    "    "
   ]
  },
  {
   "cell_type": "code",
   "execution_count": null,
   "metadata": {
    "scrolled": false
   },
   "outputs": [],
   "source": [
    "import sys\n",
    "def estimateConvergence(resolutions, errors):\n",
    "    poly = np.polyfit(log(resolutions), log(errors), 1)\n",
    "    \n",
    "    plt.loglog(resolutions, exp(poly[1])*resolutions**(poly[0]),\n",
    "               '--',label='$\\\\mathcal{O}(N^{%.2f})$' % poly[0])\n",
    "    \n",
    "def runExperiments(resolution):\n",
    "    distances = []\n",
    "    for experiment in range(0,(4*4096)/resolution):\n",
    "        sys.stdout.write(\"#\")\n",
    "        sys.stdout.flush()\n",
    "        data = runAndSort(resolution, resolution, experiment)\n",
    "        distance = wassersteinDistance(data,0.2)\n",
    "        distances.append(distance)\n",
    "    errorAvg = np.mean(distances)\n",
    "    errorStd = np.std(distances)\n",
    "    return errorAvg, errorStd\n",
    "\n",
    "resolutions = [128,256,512,1024,2048,4096,2*4096]\n",
    "errors = []\n",
    "mean_errors = []\n",
    "std_errors = []\n",
    "\n",
    "for resolution in resolutions:\n",
    "    data = runAndSort(resolution, resolution)\n",
    "    distance = wassersteinDistance(data,0.2)\n",
    "    \n",
    "    errors.append(distance)\n",
    "    \n",
    "    avgError, stdError = runExperiments(resolution)\n",
    "    \n",
    "    mean_errors.append(avgError)\n",
    "    std_errors.append(stdError)\n",
    "    \n",
    "plt.loglog(resolutions, errors,'-o',label='$W_1(\\\\mu_{0.2},\\\\mu_{0.2}^{\\\\Delta x,M})$')\n",
    "plt.loglog(resolutions, mean_errors,'-o',label='$\\\\mathbb{E}(W_1(\\\\mu_{0.2},\\\\mu_{0.2}^{\\Delta x,M}))$')\n",
    "plt.errorbar(resolutions, mean_errors, \n",
    "             yerr=std_errors,\n",
    "             fmt='o',label='$\\\\mathrm{std}(W_1(\\\\mu_{0.2},\\\\mu_{0.2}^{\\\\Delta x,M}))$')\n",
    "estimateConvergence(resolutions, mean_errors)\n",
    "plt.grid('on')\n",
    "plt.gca().set_xscale('log', basex=2)\n",
    "plt.gca().set_yscale('log', basey=2)\n",
    "plt.xlabel(\"$N$\")\n",
    "plt.ylabel(\"$W_1$\")\n",
    "plt.legend()\n",
    "\n",
    "plot_info.showAndSave('wasserstein_shock')"
   ]
  },
  {
   "cell_type": "code",
   "execution_count": null,
   "metadata": {},
   "outputs": [],
   "source": []
  },
  {
   "cell_type": "code",
   "execution_count": null,
   "metadata": {},
   "outputs": [],
   "source": []
  }
 ],
 "metadata": {
  "kernelspec": {
   "display_name": "Python 3",
   "language": "python",
   "name": "python3"
  },
  "language_info": {
   "codemirror_mode": {
    "name": "ipython",
    "version": 3
   },
   "file_extension": ".py",
   "mimetype": "text/x-python",
   "name": "python",
   "nbconvert_exporter": "python",
   "pygments_lexer": "ipython3",
   "version": "3.7.3"
  }
 },
 "nbformat": 4,
 "nbformat_minor": 2
}
