{
 "cells": [
  {
   "cell_type": "markdown",
   "metadata": {},
   "source": [
    "# Computing structure functions\n",
    "As in the paper, we define\n",
    "$$\\bar{S}_p(h)=\\int_{L^1(D,P)}\\int_{D} |u(x+h)-u(x)|^p \\; dx\\;d\\mu_t(u)$$\n",
    "\n",
    "Likewise we define\n",
    "$$\\bar{S}^2(h_1,h_2)=\\int_{L^1(D,P)}\\int_{D} (u(x)-u(x+h_1))(u-u(x+h_2))^2 \\; dx\\;d\\mu_t(u)$$"
   ]
  },
  {
   "cell_type": "markdown",
   "metadata": {},
   "source": [
    "# Needed imports"
   ]
  },
  {
   "cell_type": "code",
   "execution_count": 1,
   "metadata": {},
   "outputs": [],
   "source": [
    "\n",
    "import numpy as np\n",
    "import matplotlib\n",
    "%matplotlib inline\n",
    "import matplotlib.pyplot as plt\n",
    "import netCDF4\n",
    "import matplotlib2tikz\n",
    "import scipy.integrate\n",
    "import alsvinn\n",
    "import plot_info\n",
    "import os\n",
    "import sys\n",
    "import shutil\n",
    "\n",
    "from IPython.core.display import display, HTML\n"
   ]
  },
  {
   "cell_type": "markdown",
   "metadata": {},
   "source": [
    "# Utility functions"
   ]
  },
  {
   "cell_type": "code",
   "execution_count": 2,
   "metadata": {},
   "outputs": [],
   "source": [
    "\n",
    "def upscale(d,N):\n",
    "    \"\"\"\n",
    "    Upscales the data to the given resolution\n",
    "    \"\"\"\n",
    "    while d.shape[0] < N:\n",
    "        d = np.repeat(d,2,0)\n",
    "    return d\n",
    "\n",
    "\n",
    "    \n",
    "def headline1(name):\n",
    "    \"\"\"\n",
    "    Displays a nice level 1 heading\n",
    "    \"\"\"\n",
    "    display(HTML(\"<h1>%s</h1>\" % name))\n",
    "    \n",
    "def headline2(name):\n",
    "    \"\"\"\n",
    "    Displays a nice level 2 heading\n",
    "    \"\"\"\n",
    "    display(HTML(\"<h2>%s</h2>\" % name))\n",
    "    \n",
    "    \n",
    "        \n",
    "def headline3(name):\n",
    "    \"\"\"\n",
    "    Displays a nice level 2 heading\n",
    "    \"\"\"\n",
    "    display(HTML(\"<h3>%s</h3>\" % name))\n",
    "    \n",
    "def estimateConvergenceRates(work, errors, color='green'):\n",
    "    \"\"\"\n",
    "    Estimates the rate of convergence (error vs work)\n",
    "    \"\"\"\n",
    "    \n",
    "    # Just be sure we are working with numpy arrays\n",
    "    work = np.array(work)\n",
    "    errors = np.array(errors)\n",
    "    \n",
    "    # estimate polynomial\n",
    "    poly = np.polyfit(np.log(work), np.log(errors),1)\n",
    "    \n",
    "    # Plot\n",
    "    plt.loglog(work, np.exp(poly[1])*work**poly[0],\n",
    "               '--',\n",
    "               color=color,\n",
    "               label='$\\\\mathcal{O}(\\\\mathrm{Work}^{%.2f})$' % poly[0])"
   ]
  },
  {
   "cell_type": "markdown",
   "metadata": {},
   "source": [
    "# Structure computations"
   ]
  },
  {
   "cell_type": "code",
   "execution_count": 3,
   "metadata": {},
   "outputs": [],
   "source": [
    "def structure(filename, samples, H, targetResolution, p):\n",
    "    structure = np.zeros_like(H)\n",
    "    Hs = range(0,len(H))\n",
    "    maxH  = max(Hs)\n",
    "    with netCDF4.Dataset(filename) as f:\n",
    "        for k in range(samples):\n",
    "            d = f.variables[f'sample_{k}_u'][:,0,0]\n",
    "            \n",
    "            d=upscale(d,targetResolution)\n",
    "            \n",
    "            for h in Hs:\n",
    "                structure[h] += np.sum(abs(d[h:-maxH]-d[:targetResolution-maxH-h])**p)/targetResolution\n",
    "    structure /= samples\n",
    "    return structure"
   ]
  },
  {
   "cell_type": "markdown",
   "metadata": {},
   "source": [
    "# Two point structure functions"
   ]
  },
  {
   "cell_type": "code",
   "execution_count": 4,
   "metadata": {},
   "outputs": [],
   "source": [
    "def structure2pt(filename, samples, H, targetResolution):\n",
    "    structure = np.zeros((len(H),len(H)))\n",
    "    Hs = range(0,len(H))\n",
    "    maxH = max(Hs)\n",
    "    with netCDF4.Dataset(filename) as f:\n",
    "        for k in range(samples):\n",
    "            d = f.variables[f'sample_{k}_u'][:,0,0]\n",
    "            \n",
    "            d=upscale(d,targetResolution)\n",
    "            \n",
    "            for h1 in Hs:\n",
    "                for h2 in Hs:\n",
    "                    for x in range(0, targetResolution-maxH):\n",
    "                        structure[h1,h2] += (d[x+h1]-d[x])**2*(d[x+h2]-d[x])/targetResolution\n",
    "    structure /= samples\n",
    "    return structure"
   ]
  },
  {
   "cell_type": "markdown",
   "metadata": {},
   "source": [
    "# MLMC"
   ]
  },
  {
   "cell_type": "code",
   "execution_count": 5,
   "metadata": {},
   "outputs": [],
   "source": [
    "def make_resolutions(resolutions, nr, basename):\n",
    "    \"\"\"\n",
    "    Makes a list of files to be used for MLMC\n",
    "    \"\"\"\n",
    "    resolutions_mlmc = {}\n",
    "    L = min(nr, 5)\n",
    "    for l in range(0,L+1):\n",
    "        resolutions_mlmc[l] = basename % resolutions[nr-L+l]\n",
    "    return resolutions_mlmc\n",
    "\n",
    "def mlmc(fNames, convergenceRate, H, p, targetResolution):\n",
    "    \"\"\"\n",
    "    Computes the one point structure functions using MLMC\n",
    "    \"\"\"\n",
    "    L = max(fNames.keys())\n",
    "    s = np.zeros((len(H)))\n",
    "    runtime = 0\n",
    "    for level in fNames.keys():\n",
    "        if level == 0:\n",
    "            s += structure(fNames[level],getResolution(fNames[L]),H, targetResolution, p)\n",
    "            runtime += getResolution(fNames[level])**2*getResolution(fNames[L])\n",
    "        else:\n",
    "            samples = int(16*2**(2*convergenceRate*(L-level)))\n",
    "            structureFine = structure(fNames[level],samples,H,targetResolution, p)\n",
    "            structureCoarse = structure(fNames[level-1], samples,H,targetResolution, p)\n",
    "            s += structureFine - structureCoarse\n",
    "            \n",
    "            runtime += (getResolution(fNames[level])**2+getResolution(fNames[level])**2)*samples\n",
    "    return runtime, s\n",
    "\n",
    "def mlmc2pt(fNames, convergenceRate, H, targetResolution):\n",
    "    L = max(fNames.keys())\n",
    "    s = np.zeros((len(H), len(H)))\n",
    "    runtime = 0\n",
    "    for level in fNames.keys():\n",
    "        if level == 0:\n",
    "            s += structure2pt(fNames[level],getResolution(fNames[L]),H, targetResolution)\n",
    "            runtime += getResolution(fNames[level])**2*getResolution(fNames[L])\n",
    "        else:\n",
    "            samples = int(16*2**(2*convergenceRate*(L-level)))\n",
    "            structureFine = structure2pt(fNames[level],samples,H,targetResolution)\n",
    "            structureCoarse = structure2pt(fNames[level-1], samples,H,targetResolution)\n",
    "            s += structureFine - structureCoarse\n",
    "            \n",
    "            runtime += (getResolution(fNames[level])**2+getResolution(fNames[level])**2)*samples\n",
    "    return runtime, s\n"
   ]
  },
  {
   "cell_type": "markdown",
   "metadata": {},
   "source": [
    "# Convergence study"
   ]
  },
  {
   "cell_type": "markdown",
   "metadata": {},
   "source": [
    "## 1 pt convergence"
   ]
  },
  {
   "cell_type": "code",
   "execution_count": 6,
   "metadata": {},
   "outputs": [],
   "source": [
    "def makeConvergenceStudy(basename, name, p, mlmcConvergenceRate=0.5, exactSolution = None):\n",
    "    \n",
    "    \n",
    "    targetResolution = 4096\n",
    "    H = np.linspace(0,0.3, int(0.3*targetResolution))\n",
    "    \n",
    "    if exactSolution is None:\n",
    "        referenceSolution = structure(basename % targetResolution, targetResolution, H, targetResolution, p)\n",
    "    else:\n",
    "        referenceSolution = exactSolution(H)\n",
    "    \n",
    "    \n",
    "    resolutions = [128,256,512,1024, 2048]\n",
    "    errors = []\n",
    "    errors_mlmc = []\n",
    "    runtimes_mlmc = []\n",
    "    for (nr, resolution) in enumerate(resolutions):\n",
    "        s = (structure(basename % resolution, resolution, H, targetResolution, p))**(1.0/p)\n",
    "        \n",
    "        \n",
    "        errors.append(sum(abs(s-referenceSolution**(1.0/p)))/len(H))\n",
    "        \n",
    "        runtime_mlmc, smlmc = mlmc(make_resolutions(resolutions, nr, basename), mlmcConvergenceRate, \n",
    "                                   H,p, targetResolution)\n",
    "        smlmc = smlmc**(1.0/p)\n",
    "        runtimes_mlmc.append(runtime_mlmc)\n",
    "        errors_mlmc.append(sum(abs(smlmc-referenceSolution**(1.0/p)))/len(H))\n",
    "    \n",
    "    runtimes = [r**3 for r in resolutions ]\n",
    "    plot_ref = plt.loglog(runtimes, errors,'-o',label='Monte-Carlo, $p=%d$' % p)\n",
    "    estimateConvergenceRates(runtimes, errors, color=plot_ref[0].get_color())\n",
    "    plot_ref = plt.loglog(runtimes_mlmc, errors_mlmc,'-o',label='MLMC, $p=%d$' % p)\n",
    "    estimateConvergenceRates(runtimes_mlmc, errors_mlmc, color=plot_ref[0].get_color())\n",
    "    plt.gca().set_xscale('log', basex=2)\n",
    "    plt.gca().set_yscale('log', basey=2)\n",
    "    \n",
    "    \n",
    "\n",
    "def makeConvergenceStudies(basename, name, P, mlmcConvergenceRate = 0.5, exactSolution = None):\n",
    "    headline3(\"Convergence study %s\" % name)\n",
    "    for p in P:\n",
    "        makeConvergenceStudy(basename, name, p, mlmcConvergenceRate, exactSolution)\n",
    "        plt.xlabel(\"Work\")\n",
    "        plt.ylabel(\"$||\\\\cdot||_{L^1([0,1])}$\")\n",
    "        plt.legend()\n",
    "        plt.grid('on')\n",
    "        plot_info.showAndSave(name + '%d_convergence' % p)"
   ]
  },
  {
   "cell_type": "markdown",
   "metadata": {},
   "source": [
    "## 2pt convergence"
   ]
  },
  {
   "cell_type": "code",
   "execution_count": 7,
   "metadata": {},
   "outputs": [],
   "source": [
    "def makeConvergenceStudy2Pt(basename, name, mlmcConvergenceRate=0.5):\n",
    "    headline3(\"Convergence study 2 pt %s\" % name)\n",
    "    targetResolution = 2048\n",
    "    H = np.linspace(0,0.3, int(0.3*targetResolution))\n",
    "    referenceSolution = structure2pt(basename % targetResolution, targetResolution, H, targetResolution)\n",
    "\n",
    "    resolutions = [128,256,512,1024]\n",
    "    errors = []\n",
    "    errors_mlmc = []\n",
    "    runtimes_mlmc = []\n",
    "    for (nr, resolution) in enumerate(resolutions):\n",
    "        s = structure2pt(basename % resolution, resolution, H, targetResolution)\n",
    "        \n",
    "        \n",
    "        errors.append(sum(abs(s-referenceSolution))/len(H)**2)\n",
    "        \n",
    "        runtime_mlmc, smlmc = mlmc2pt(make_resolutions(resolutions, nr, basename), mlmcConvergenceRate, \n",
    "                                   H, targetResolution)\n",
    "        runtimes_mlmc.append(runtime_mlmc)\n",
    "        errors_mlmc.append(sum(abs(smlmc-referenceSolution))/len(H)**2)\n",
    "    \n",
    "    runtimes = [r**3 for r in resolutions ]\n",
    "    plt.loglog(runtimes, errors,'-o',label='Monte-Carlo, $p=%d$' % p)\n",
    "    estimateConvergenceRates(runtimes, errors)\n",
    "    plt.loglog(runtimes_mlmc, errors_mlmc,'-o',label='MLMC, $p=%d$' % p)\n",
    "    estimateConvergenceRates(runtimes_mlmc, errors_mlmc)\n",
    "    \n",
    "    \n",
    "   \n",
    "    plt.xlabel(\"Work\")\n",
    "    plt.ylabel(\"$||\\\\cdot||_{L^1([0,1]^2)}$\")\n",
    "    plt.legend()\n",
    "    plt.grid('on')\n",
    "    plot_info.showAndSave(name + '_2pt_convergence')"
   ]
  },
  {
   "cell_type": "markdown",
   "metadata": {},
   "source": [
    "# Estimating scalings\n",
    "Below we determine the exponent $q$ such that\n",
    "$$\\bar{S}_p(h)=\\mathcal{O}(h^q)$$\n",
    "We do this using ```numpy.polyfit``` for fitting a linear polynomial to ```h``` and ```structure```."
   ]
  },
  {
   "cell_type": "code",
   "execution_count": 8,
   "metadata": {},
   "outputs": [],
   "source": [
    "def estimateScalings(H, s, color='green'):\n",
    "    # We want to avoid zero (can not take log of 0)\n",
    "    H = H[3:]\n",
    "    s = s[3:]\n",
    "    poly = np.polyfit(np.log(H), np.log(s),1)\n",
    "    plt.loglog(H, np.exp(poly[1])*H**poly[0], '--', \n",
    "               label='$\\\\mathcal{O}(h^{%.2f})$' % poly[0],\n",
    "              color=color)\n",
    "    \n",
    "def estimateAndPlotScalings(basename, name, resolution, P, maxH = 0.3, mlmcConvergenceRate=0.5):\n",
    "    headline3(\"Estimating scalings %s\" % name)\n",
    "    resolutions = [2**k for k in range(int(log2(128)), int(log2(resolution)+1))]\n",
    "    H = np.linspace(0, maxH, int(maxH*resolution))\n",
    "    \n",
    "    for p in P:\n",
    "        s = structure(basename % resolution, resolution, H,  resolution, p)\n",
    "        runtimes_mlmc, sMlmc = mlmc(make_resolutions(resolutions, len(resolutions)-1, basename), mlmcConvergenceRate, H, p, resolution)\n",
    "        \n",
    "        plot_ref = plt.loglog(H, s, label='$\\\\bar{S}^{\\Delta x, M}_{%d}(h)$' % p)\n",
    "        estimateScalings(H[5:], s[5:], color=plot_ref[0].get_color())\n",
    "        \n",
    "        \n",
    "    plt.legend()\n",
    "    plt.xlabel(\"$h$\")\n",
    "    plt.ylabel(\"$\\\\bar{S}_p(h)$\")\n",
    "    plot_info.showAndSave(name + '%.2f_scalings' % maxH)\n",
    "        "
   ]
  },
  {
   "cell_type": "markdown",
   "metadata": {},
   "source": [
    "# Plotting 2 pt structure functions"
   ]
  },
  {
   "cell_type": "code",
   "execution_count": 9,
   "metadata": {},
   "outputs": [],
   "source": [
    "def plot2Pt(basename, name, resolution, maxH):\n",
    "    H = np.linspace(0, maxH, int(maxH*resolution))\n",
    "\n",
    "    s = structure2pt(basename % resolution, resolution, H, resolution)\n",
    "    \n",
    "    NH = len(H)\n",
    "    h1,h2 = np.mgrid[0:maxH:NH*1j,0:maxH:NH*1j]\n",
    "    \n",
    "    plt.pcolormesh(h1,h2,s)\n",
    "    plt.colorbar()\n",
    "    plt.title('$\\\\bar{S}^{\\Delta x, M}(h_1,h_2)$')\n",
    "    plot_info.showAndSave(name + \"_structure2pt_%d\" % (resolution))\n",
    "    \n",
    "    "
   ]
  },
  {
   "cell_type": "markdown",
   "metadata": {},
   "source": [
    "# Uncertain shock location"
   ]
  },
  {
   "cell_type": "markdown",
   "metadata": {},
   "source": [
    "## Exact solution\n",
    "\n",
    "The exact solution is as in the paper"
   ]
  },
  {
   "cell_type": "code",
   "execution_count": 10,
   "metadata": {},
   "outputs": [],
   "source": [
    "\n",
    "def exactStructureShockLocation(x,t,h):\n",
    "    \"\"\"\n",
    "    Computes the exact structure function for Burgers equation with \n",
    "    initial value given as an uncertain shock location.\n",
    "    \n",
    "    \"\"\"\n",
    "    # Endpoints of uncertainity interval [-a, a] = [-0.1,0.1]\n",
    "    a = 1.0/10\n",
    "    \n",
    "    # PDF constant (ie the PDF of the uniform distribution is constant 1/(length of interval))\n",
    "    f = 1/(2*a)\n",
    "    \n",
    "    shockLocation = 0.5+0.5*t\n",
    "    \n",
    "    if x+a < shockLocation and h+x+a < shockLocation:\n",
    "        value = 0\n",
    "        \n",
    "    elif x-a > shockLocation and h+x-a > shockLocation:\n",
    "        value = 0\n",
    "    else:\n",
    "        value = max(0,f*(min(a,x+h-0.5-0.5*t)-max(-a,x-0.5-0.5*t)))\n",
    "    \n",
    "    return value\n",
    "\n",
    "def exactIntegratedStructureShockLocation(t,H):\n",
    "    \"\"\"\n",
    "    Computes the exact structure function for Burgers equation with \n",
    "    initial value given as an uncertain shock location.\n",
    "    \"\"\"\n",
    "    integrated = []\n",
    "    for h in H:\n",
    "        integrated.append(scipy.integrate.quad(lambda x: exactStructureShockLocation(x,0.2,h),0,1)[0])\n",
    "    return np.array(integrated)"
   ]
  },
  {
   "cell_type": "code",
   "execution_count": 11,
   "metadata": {},
   "outputs": [],
   "source": [
    "import re\n",
    "def getResolution(filename):\n",
    "    match = re.search(r'.+_(\\d+)\\/', filename)\n",
    "    \n",
    "    if match:\n",
    "        return int(match.group(1))\n",
    "    else:\n",
    "        raise Exception(f\"Could not dertermine resolution of {filename}.\")\n",
    "\n",
    "def run_resolutions(config_file):\n",
    "    \n",
    "    basename = os.path.splitext(config_file)[0]\n",
    "    resolutions = [128,256,512,1024, 2048]\n",
    "    folder_base = f'{basename}_%d'\n",
    "    \n",
    "    for resolution in resolutions:\n",
    "        print(f'Running {config_file} at resolution {resolution}')\n",
    "        os.makedirs(folder_base % resolution, exist_ok=True)\n",
    "        os.chdir(folder_base % resolution)\n",
    "        shutil.copyfile(f'../{config_file}', f'{config_file}')\n",
    "        shutil.copyfile(f'../{basename}.py', f'{basename}.py')\n",
    "        \n",
    "        alsvinn.run(base_xml=f'{config_file}',\n",
    "                   dimension=[resolution, 1, 1],\n",
    "                   samples=4*4096,\n",
    "                   uq=True)\n",
    "        os.chdir('..')\n",
    "        \n",
    "    return os.path.join(folder_base, f'{basename}_0.nc')"
   ]
  },
  {
   "cell_type": "markdown",
   "metadata": {},
   "source": [
    "# Uncertain shock location\n"
   ]
  },
  {
   "cell_type": "markdown",
   "metadata": {},
   "source": [
    "## Configuration files"
   ]
  },
  {
   "cell_type": "code",
   "execution_count": 12,
   "metadata": {},
   "outputs": [
    {
     "name": "stdout",
     "output_type": "stream",
     "text": [
      "Overwriting shock_location_structure.xml\n"
     ]
    }
   ],
   "source": [
    "%%writefile shock_location_structure.xml\n",
    "<config>\n",
    "  <fvm>\n",
    "    <name>\n",
    "      shock_location_structure\n",
    "    </name>\n",
    "    <platform>cpu</platform>\n",
    "    <grid>\n",
    "      <lowerCorner>0 0 0</lowerCorner>\n",
    "      <upperCorner>1 0 0</upperCorner>\n",
    "      <dimension>32 1 1</dimension>\n",
    "    </grid>\n",
    "    <boundary>neumann</boundary>\n",
    "    <flux>godunov</flux>\n",
    "    <endTime>.2</endTime>\n",
    "    <equation>burgers</equation>\n",
    "    <reconstruction>none</reconstruction>\n",
    "    <cfl>auto</cfl>\n",
    "    <integrator>auto</integrator>\n",
    "    <initialData>\n",
    "      <python>shock_location_structure.py</python>\n",
    "\n",
    "      <parameters>\n",
    "        <parameter>\n",
    "          <name>X</name>\n",
    "          <length>1</length>\n",
    "          <value>0</value>\n",
    "        </parameter>\n",
    "      </parameters>\n",
    "    </initialData>\n",
    "    \n",
    "    <writer>\n",
    "      <basename>shock_location_structure</basename>\n",
    "      <type>netcdf</type>\n",
    "      <numberOfSaves>1</numberOfSaves>\n",
    "    </writer>\n",
    "\n",
    "  </fvm>\n",
    "  <uq>\n",
    "    <samples>16384</samples>\n",
    "    <generator>auto</generator>\n",
    "    <parameters>\n",
    "      <parameter>\n",
    "        <name>X</name>\n",
    "        <length>1</length>\n",
    "        <type>uniform</type>\n",
    "      </parameter>\n",
    "    </parameters>\n",
    "    <stats>\n",
    "     \n",
    "    </stats>\n",
    "\n",
    "  </uq>\n",
    "</config>"
   ]
  },
  {
   "cell_type": "code",
   "execution_count": 13,
   "metadata": {},
   "outputs": [
    {
     "name": "stdout",
     "output_type": "stream",
     "text": [
      "Overwriting shock_location_structure.py\n"
     ]
    }
   ],
   "source": [
    "%%writefile shock_location_structure.py\n",
    "# Initial data file\n",
    "Y = 0.2*X - 0.1\n",
    "if x <= 0.5 + Y:\n",
    "    u = 1.0\n",
    "else:\n",
    "    u = 0.0"
   ]
  },
  {
   "cell_type": "markdown",
   "metadata": {},
   "source": [
    "## Runs"
   ]
  },
  {
   "cell_type": "code",
   "execution_count": null,
   "metadata": {
    "scrolled": false
   },
   "outputs": [
    {
     "name": "stdout",
     "output_type": "stream",
     "text": [
      "Running shock_location_structure.xml at resolution 128\n"
     ]
    }
   ],
   "source": [
    "basename= run_resolutions('shock_location_structure.xml')\n",
    "\n",
    "makeConvergenceStudies(basename, 'shock_location', [1,2,3,4,5],\n",
    "                       exactSolution = lambda H: exactIntegratedStructureShockLocation(0.2,H))\n",
    "#plot2Pt(basename, 'shock_location', 1024,0.3)\n",
    "#plot2Pt(basename, 'shock_location', 1024,0.01)\n",
    "#makeConvergenceStudy2Pt(basename, 'shock_location')"
   ]
  },
  {
   "cell_type": "markdown",
   "metadata": {
    "collapsed": true
   },
   "source": [
    "# Brownian motion (H=0.5)"
   ]
  },
  {
   "cell_type": "markdown",
   "metadata": {},
   "source": [
    "## Configuration files"
   ]
  },
  {
   "cell_type": "code",
   "execution_count": 12,
   "metadata": {},
   "outputs": [
    {
     "name": "stdout",
     "output_type": "stream",
     "text": [
      "Overwriting brownian_motion_structure.xml\n"
     ]
    }
   ],
   "source": [
    "%%writefile brownian_motion_structure.xml\n",
    "<config>\n",
    "  <fvm>\n",
    "    <name>\n",
    "      brownian_motion_structure\n",
    "    </name>\n",
    "    <platform>cpu</platform>\n",
    "    <grid>\n",
    "      <lowerCorner>0 0 0</lowerCorner>\n",
    "      <upperCorner>1 0 0</upperCorner>\n",
    "      <dimension>32 1 1</dimension>\n",
    "    </grid>\n",
    "    <boundary>neumann</boundary>\n",
    "    <flux>godunov</flux>\n",
    "    <endTime>.2</endTime>\n",
    "    <equation>burgers</equation>\n",
    "    <reconstruction>none</reconstruction>\n",
    "    <cfl>auto</cfl>\n",
    "    <integrator>auto</integrator>\n",
    "    <initialData>\n",
    "      <python>brownian_motion_structure.py</python>\n",
    "\n",
    "      <parameters>\n",
    "        <parameter>\n",
    "          <name>X</name>\n",
    "          <length>16384</length>\n",
    "          <values><value>0</value></values>\n",
    "        </parameter>\n",
    "      </parameters>\n",
    "    </initialData>\n",
    "    \n",
    "    <writer>\n",
    "      <basename>brownian_motion_structure</basename>\n",
    "      <type>netcdf</type>\n",
    "      <numberOfSaves>1</numberOfSaves>\n",
    "    </writer>\n",
    "\n",
    "  </fvm>\n",
    "  <uq>\n",
    "    <samples>16384</samples>\n",
    "    <generator>auto</generator>\n",
    "    <parameters>\n",
    "      <parameter>\n",
    "        <name>X</name>\n",
    "        <length>16384</length>\n",
    "        <type>uniform</type>\n",
    "      </parameter>\n",
    "    </parameters>\n",
    "    <stats>\n",
    "     \n",
    "    </stats>\n",
    "\n",
    "  </uq>\n",
    "</config>"
   ]
  },
  {
   "cell_type": "code",
   "execution_count": 13,
   "metadata": {},
   "outputs": [
    {
     "name": "stdout",
     "output_type": "stream",
     "text": [
      "Overwriting brownian_motion_structure.py\n"
     ]
    }
   ],
   "source": [
    "%%writefile brownian_motion_structure.py\n",
    "import scipy.stats\n",
    "def init_global(u, nx, ny, nz, ax, ay, az, bx, by, bz):\n",
    "    Y = scipy.stats.norm.ppf(X)\n",
    "    # This uses the fractional brownian motion library at\n",
    "    # https://github.com/kjetil-lye/fractional_brownian_motion\n",
    "    u[:,0,0] = fbmpy.fractional_brownian_motion_1d(0.5, nx, Y)[:-1]\n",
    "    "
   ]
  },
  {
   "cell_type": "code",
   "execution_count": 14,
   "metadata": {
    "scrolled": false
   },
   "outputs": [
    {
     "name": "stdout",
     "output_type": "stream",
     "text": [
      "Running brownian_motion_structure.xml at resolution 128\n"
     ]
    },
    {
     "ename": "Exception",
     "evalue": "Error running alsvinncli.\n\n The command used was\n\n\t/home/kjetil/projects/alsvinn_pure/build/alsuqcli/alsuqcli brownian_motion_structure.xml\n\nThe output was:\n\n----------------\nb'[2019-07-10 09:59:13.309795] [0x00007f9d7c13a500] [info]    Number of GPUs on node: 1\nomp max threads= 12\n'\n----------------\n\nThe error output was:\n\n----------------\nb\"terminate called after throwing an instance of 'boost::python::error_already_set'\n[galerkin:31669] *** Process received signal ***\n[galerkin:31669] Signal: Aborted (6)\n[galerkin:31669] Signal code:  (-6)\n[galerkin:31669] [ 0] /usr/lib/libpthread.so.0(+0x13d00)[0x7f9d850bbd00]\n[galerkin:31669] [ 1] /usr/lib/libc.so.6(gsignal+0x145)[0x7f9d7f233755]\n[galerkin:31669] [ 2] /usr/lib/libc.so.6(abort+0x125)[0x7f9d7f21e851]\n[galerkin:31669] [ 3] /usr/lib/libstdc++.so.6(+0x9581f)[0x7f9d7f5b381f]\n[galerkin:31669] [ 4] /usr/lib/libstdc++.so.6(+0xa230a)[0x7f9d7f5c030a]\n[galerkin:31669] [ 5] /usr/lib/libstdc++.so.6(+0xa2367)[0x7f9d7f5c0367]\n[galerkin:31669] [ 6] /usr/lib/libstdc++.so.6(+0xa25bd)[0x7f9d7f5c05bd]\n[galerkin:31669] [ 7] /usr/lib/libboost_python37.so.1.69.0(+0x261a4)[0x7f9d80e1e1a4]\n[galerkin:31669] [ 8] /home/kjetil/projects/alsvinn_pure/build/alsfvm/libalsfvm.so(_ZN6alsfvm6python14handle_pyerrorB5cxx11Ev+0x4ed)[0x7f9d84ca084d]\n[galerkin:31669] [ 9] /home/kjetil/projects/alsvinn_pure/build/alsfvm/libalsfvm.so(+0x1954ad)[0x7f9d84c164ad]\n[galerkin:31669] [10] /home/kjetil/projects/alsvinn_pure/build/alsfvm/libalsfvm.so(_ZN6alsfvm9simulator9Simulator15setInitialValueERSt10shared_ptrINS_4init11InitialDataEE+0xf1)[0x7f9d84dd3761]\n[galerkin:31669] [11] /home/kjetil/projects/alsvinn_pure/build/alsuq/libalsuq.so(_ZN5alsuq3run28FiniteVolumeSimulatorCreator15createSimulatorERKN6alsfvm4init10ParametersEm+0x2c0)[0x7f9d851daaf0]\n[galerkin:31669] [12] /home/kjetil/projects/alsvinn_pure/build/alsuq/libalsuq.so(_ZN5alsuq3run6Runner3runEv+0x616)[0x7f9d851dc3e6]\n[galerkin:31669] [13] /home/kjetil/projects/alsvinn_pure/build/alsuqcli/alsuqcli(main+0xbc6)[0x5618f59743e6]\n[galerkin:31669] [14] /usr/lib/libc.so.6(__libc_start_main+0xf3)[0x7f9d7f21fee3]\n[galerkin:31669] [15] /home/kjetil/projects/alsvinn_pure/build/alsuqcli/alsuqcli(_start+0x2e)[0x5618f5974f2e]\n[galerkin:31669] *** End of error message ***\n\"\n\n----------------\n\nAlso check the log files 'alsvinncli_mpi_log_<n>.txt'",
     "output_type": "error",
     "traceback": [
      "\u001b[0;31m---------------------------------------------------------------------------\u001b[0m",
      "\u001b[0;31mException\u001b[0m                                 Traceback (most recent call last)",
      "\u001b[0;32m<ipython-input-14-dc267cd469ec>\u001b[0m in \u001b[0;36m<module>\u001b[0;34m\u001b[0m\n\u001b[0;32m----> 1\u001b[0;31m \u001b[0mbasename\u001b[0m \u001b[0;34m=\u001b[0m \u001b[0mrun_resolutions\u001b[0m\u001b[0;34m(\u001b[0m\u001b[0;34m'brownian_motion_structure.xml'\u001b[0m\u001b[0;34m)\u001b[0m\u001b[0;34m\u001b[0m\u001b[0;34m\u001b[0m\u001b[0m\n\u001b[0m\u001b[1;32m      2\u001b[0m \u001b[0mmakeConvergenceStudies\u001b[0m\u001b[0;34m(\u001b[0m\u001b[0mbasename\u001b[0m\u001b[0;34m,\u001b[0m \u001b[0;34m'brownian'\u001b[0m\u001b[0;34m,\u001b[0m \u001b[0;34m[\u001b[0m\u001b[0;36m1\u001b[0m\u001b[0;34m,\u001b[0m\u001b[0;36m2\u001b[0m\u001b[0;34m,\u001b[0m\u001b[0;36m3\u001b[0m\u001b[0;34m,\u001b[0m\u001b[0;36m4\u001b[0m\u001b[0;34m,\u001b[0m\u001b[0;36m5\u001b[0m\u001b[0;34m]\u001b[0m\u001b[0;34m)\u001b[0m\u001b[0;34m\u001b[0m\u001b[0;34m\u001b[0m\u001b[0m\n\u001b[1;32m      3\u001b[0m \u001b[0;31m#estimateAndPlotScalings(basename, 'brownian', 4*4096, [1,2,3], maxH=0.3)\u001b[0m\u001b[0;34m\u001b[0m\u001b[0;34m\u001b[0m\u001b[0;34m\u001b[0m\u001b[0m\n\u001b[1;32m      4\u001b[0m \u001b[0;31m#estimateAndPlotScalings(basename, 'brownian', 4*4096, [1,2,3], maxH=0.15)\u001b[0m\u001b[0;34m\u001b[0m\u001b[0;34m\u001b[0m\u001b[0;34m\u001b[0m\u001b[0m\n\u001b[1;32m      5\u001b[0m \u001b[0;31m#\u001b[0m\u001b[0;34m\u001b[0m\u001b[0;34m\u001b[0m\u001b[0;34m\u001b[0m\u001b[0m\n",
      "\u001b[0;32m<ipython-input-11-f992ba2b3525>\u001b[0m in \u001b[0;36mrun_resolutions\u001b[0;34m(config_file)\u001b[0m\n\u001b[1;32m     24\u001b[0m                    \u001b[0mdimension\u001b[0m\u001b[0;34m=\u001b[0m\u001b[0;34m[\u001b[0m\u001b[0mresolution\u001b[0m\u001b[0;34m,\u001b[0m \u001b[0;36m1\u001b[0m\u001b[0;34m,\u001b[0m \u001b[0;36m1\u001b[0m\u001b[0;34m]\u001b[0m\u001b[0;34m,\u001b[0m\u001b[0;34m\u001b[0m\u001b[0;34m\u001b[0m\u001b[0m\n\u001b[1;32m     25\u001b[0m                    \u001b[0msamples\u001b[0m\u001b[0;34m=\u001b[0m\u001b[0;36m4\u001b[0m\u001b[0;34m*\u001b[0m\u001b[0;36m4096\u001b[0m\u001b[0;34m,\u001b[0m\u001b[0;34m\u001b[0m\u001b[0;34m\u001b[0m\u001b[0m\n\u001b[0;32m---> 26\u001b[0;31m                    uq=True)\n\u001b[0m\u001b[1;32m     27\u001b[0m         \u001b[0mos\u001b[0m\u001b[0;34m.\u001b[0m\u001b[0mchdir\u001b[0m\u001b[0;34m(\u001b[0m\u001b[0;34m'..'\u001b[0m\u001b[0;34m)\u001b[0m\u001b[0;34m\u001b[0m\u001b[0;34m\u001b[0m\u001b[0m\n\u001b[1;32m     28\u001b[0m \u001b[0;34m\u001b[0m\u001b[0m\n",
      "\u001b[0;32m~/projects/alsvinn_pure/build/python/alsvinn/alsvinn.py\u001b[0m in \u001b[0;36mrun\u001b[0;34m(name, equation, lower_corner, upper_corner, dimension, flux, T, boundary, reconstruction, cfl, integrator, initial_parameters, number_of_saves, initial_data_file, initial_data_script, base_xml, equation_parameters, platform, alsvinncli, alsuqcli, prepend_alsvinncli, omp_num_threads, multix, multiy, multiz, uq, sampleStart, multiSample, statistics, samples, generator, diffusion_operator, diffusion_reconstruction, functionals, write_initial_timestep)\u001b[0m\n\u001b[1;32m    597\u001b[0m     \u001b[0;32mif\u001b[0m \u001b[0mdiffusion_operator\u001b[0m \u001b[0;32mis\u001b[0m \u001b[0;32mnot\u001b[0m \u001b[0;32mNone\u001b[0m\u001b[0;34m:\u001b[0m\u001b[0;34m\u001b[0m\u001b[0;34m\u001b[0m\u001b[0m\n\u001b[1;32m    598\u001b[0m         \u001b[0malsvinn_object\u001b[0m\u001b[0;34m.\u001b[0m\u001b[0mset_diffusion\u001b[0m\u001b[0;34m(\u001b[0m\u001b[0mdiffusion_operator\u001b[0m\u001b[0;34m,\u001b[0m \u001b[0mdiffusion_reconstruction\u001b[0m\u001b[0;34m)\u001b[0m\u001b[0;34m\u001b[0m\u001b[0;34m\u001b[0m\u001b[0m\n\u001b[0;32m--> 599\u001b[0;31m     \u001b[0malsvinn_object\u001b[0m\u001b[0;34m.\u001b[0m\u001b[0mrun\u001b[0m\u001b[0;34m(\u001b[0m\u001b[0mmultix\u001b[0m\u001b[0;34m=\u001b[0m\u001b[0mmultix\u001b[0m\u001b[0;34m,\u001b[0m \u001b[0mmultiy\u001b[0m\u001b[0;34m=\u001b[0m\u001b[0mmultiy\u001b[0m\u001b[0;34m,\u001b[0m\u001b[0mmultiz\u001b[0m\u001b[0;34m=\u001b[0m\u001b[0mmultiz\u001b[0m\u001b[0;34m,\u001b[0m \u001b[0muq\u001b[0m\u001b[0;34m=\u001b[0m\u001b[0muq\u001b[0m\u001b[0;34m,\u001b[0m \u001b[0mmultiSample\u001b[0m\u001b[0;34m=\u001b[0m\u001b[0mmultiSample\u001b[0m\u001b[0;34m)\u001b[0m\u001b[0;34m\u001b[0m\u001b[0;34m\u001b[0m\u001b[0m\n\u001b[0m\u001b[1;32m    600\u001b[0m \u001b[0;34m\u001b[0m\u001b[0m\n\u001b[1;32m    601\u001b[0m     \u001b[0;32mif\u001b[0m \u001b[0minitial_data_file_is_temporary\u001b[0m\u001b[0;34m:\u001b[0m\u001b[0;34m\u001b[0m\u001b[0;34m\u001b[0m\u001b[0m\n",
      "\u001b[0;32m~/projects/alsvinn_pure/build/python/alsvinn/alsvinn.py\u001b[0m in \u001b[0;36mrun\u001b[0;34m(self, multix, multiy, multiz, uq, multiSample)\u001b[0m\n\u001b[1;32m    189\u001b[0m                 \u001b[0mcommand\u001b[0m\u001b[0;34m=\u001b[0m\u001b[0;34m' '\u001b[0m\u001b[0;34m.\u001b[0m\u001b[0mjoin\u001b[0m\u001b[0;34m(\u001b[0m\u001b[0mcommandArray\u001b[0m\u001b[0;34m)\u001b[0m\u001b[0;34m,\u001b[0m \u001b[0moutput\u001b[0m\u001b[0;34m=\u001b[0m\u001b[0mstr\u001b[0m\u001b[0;34m(\u001b[0m\u001b[0moutput\u001b[0m\u001b[0;34m)\u001b[0m\u001b[0;34m.\u001b[0m\u001b[0mreplace\u001b[0m\u001b[0;34m(\u001b[0m\u001b[0;34m'\\\\n'\u001b[0m\u001b[0;34m,\u001b[0m\u001b[0;34m'\\n'\u001b[0m\u001b[0;34m)\u001b[0m\u001b[0;34m,\u001b[0m \u001b[0merror\u001b[0m\u001b[0;34m=\u001b[0m\u001b[0mstr\u001b[0m\u001b[0;34m(\u001b[0m\u001b[0merror\u001b[0m\u001b[0;34m)\u001b[0m\u001b[0;34m.\u001b[0m\u001b[0mreplace\u001b[0m\u001b[0;34m(\u001b[0m\u001b[0;34m'\\\\n'\u001b[0m\u001b[0;34m,\u001b[0m\u001b[0;34m'\\n'\u001b[0m\u001b[0;34m)\u001b[0m\u001b[0;34m\u001b[0m\u001b[0;34m\u001b[0m\u001b[0m\n\u001b[1;32m    190\u001b[0m             )\n\u001b[0;32m--> 191\u001b[0;31m             \u001b[0;32mraise\u001b[0m \u001b[0mException\u001b[0m\u001b[0;34m(\u001b[0m\u001b[0merrorMessage\u001b[0m\u001b[0;34m)\u001b[0m\u001b[0;34m\u001b[0m\u001b[0;34m\u001b[0m\u001b[0m\n\u001b[0m\u001b[1;32m    192\u001b[0m \u001b[0;34m\u001b[0m\u001b[0m\n\u001b[1;32m    193\u001b[0m \u001b[0;34m\u001b[0m\u001b[0m\n",
      "\u001b[0;31mException\u001b[0m: Error running alsvinncli.\n\n The command used was\n\n\t/home/kjetil/projects/alsvinn_pure/build/alsuqcli/alsuqcli brownian_motion_structure.xml\n\nThe output was:\n\n----------------\nb'[2019-07-10 09:59:13.309795] [0x00007f9d7c13a500] [info]    Number of GPUs on node: 1\nomp max threads= 12\n'\n----------------\n\nThe error output was:\n\n----------------\nb\"terminate called after throwing an instance of 'boost::python::error_already_set'\n[galerkin:31669] *** Process received signal ***\n[galerkin:31669] Signal: Aborted (6)\n[galerkin:31669] Signal code:  (-6)\n[galerkin:31669] [ 0] /usr/lib/libpthread.so.0(+0x13d00)[0x7f9d850bbd00]\n[galerkin:31669] [ 1] /usr/lib/libc.so.6(gsignal+0x145)[0x7f9d7f233755]\n[galerkin:31669] [ 2] /usr/lib/libc.so.6(abort+0x125)[0x7f9d7f21e851]\n[galerkin:31669] [ 3] /usr/lib/libstdc++.so.6(+0x9581f)[0x7f9d7f5b381f]\n[galerkin:31669] [ 4] /usr/lib/libstdc++.so.6(+0xa230a)[0x7f9d7f5c030a]\n[galerkin:31669] [ 5] /usr/lib/libstdc++.so.6(+0xa2367)[0x7f9d7f5c0367]\n[galerkin:31669] [ 6] /usr/lib/libstdc++.so.6(+0xa25bd)[0x7f9d7f5c05bd]\n[galerkin:31669] [ 7] /usr/lib/libboost_python37.so.1.69.0(+0x261a4)[0x7f9d80e1e1a4]\n[galerkin:31669] [ 8] /home/kjetil/projects/alsvinn_pure/build/alsfvm/libalsfvm.so(_ZN6alsfvm6python14handle_pyerrorB5cxx11Ev+0x4ed)[0x7f9d84ca084d]\n[galerkin:31669] [ 9] /home/kjetil/projects/alsvinn_pure/build/alsfvm/libalsfvm.so(+0x1954ad)[0x7f9d84c164ad]\n[galerkin:31669] [10] /home/kjetil/projects/alsvinn_pure/build/alsfvm/libalsfvm.so(_ZN6alsfvm9simulator9Simulator15setInitialValueERSt10shared_ptrINS_4init11InitialDataEE+0xf1)[0x7f9d84dd3761]\n[galerkin:31669] [11] /home/kjetil/projects/alsvinn_pure/build/alsuq/libalsuq.so(_ZN5alsuq3run28FiniteVolumeSimulatorCreator15createSimulatorERKN6alsfvm4init10ParametersEm+0x2c0)[0x7f9d851daaf0]\n[galerkin:31669] [12] /home/kjetil/projects/alsvinn_pure/build/alsuq/libalsuq.so(_ZN5alsuq3run6Runner3runEv+0x616)[0x7f9d851dc3e6]\n[galerkin:31669] [13] /home/kjetil/projects/alsvinn_pure/build/alsuqcli/alsuqcli(main+0xbc6)[0x5618f59743e6]\n[galerkin:31669] [14] /usr/lib/libc.so.6(__libc_start_main+0xf3)[0x7f9d7f21fee3]\n[galerkin:31669] [15] /home/kjetil/projects/alsvinn_pure/build/alsuqcli/alsuqcli(_start+0x2e)[0x5618f5974f2e]\n[galerkin:31669] *** End of error message ***\n\"\n\n----------------\n\nAlso check the log files 'alsvinncli_mpi_log_<n>.txt'"
     ]
    }
   ],
   "source": [
    "basename = run_resolutions('brownian_motion_structure.xml')\n",
    "makeConvergenceStudies(basename, 'brownian', [1,2,3,4,5])\n",
    "#estimateAndPlotScalings(basename, 'brownian', 4*4096, [1,2,3], maxH=0.3)\n",
    "#estimateAndPlotScalings(basename, 'brownian', 4*4096, [1,2,3], maxH=0.15)\n",
    "#\n",
    "#estimateAndPlotScalings(basename, 'brownian', 4*4096, [1,2,3], maxH=0.1)\n",
    "#estimateAndPlotScalings(basename, 'brownian', 4*4096, [1,2,3], maxH=0.05)\n",
    "#estimateAndPlotScalings(basename, 'brownian', 4*4096, [1,2,3], maxH=0.025)\n",
    "estimateAndPlotScalings(basename, 'brownian', 4*4096, [1,2,3], maxH=0.01)\n",
    "#plot2Pt(basename, 'brownian', 1024,0.3)\n",
    "#plot2Pt(basename, 'brownian', 1024,0.01)\n",
    "\n",
    "#makeConvergenceStudy2Pt(basename, 'brownian')\n"
   ]
  },
  {
   "cell_type": "code",
   "execution_count": null,
   "metadata": {
    "scrolled": false
   },
   "outputs": [],
   "source": [
    "\n"
   ]
  },
  {
   "cell_type": "markdown",
   "metadata": {},
   "source": [
    "# Fractional Brownian motion"
   ]
  },
  {
   "cell_type": "markdown",
   "metadata": {},
   "source": [
    "## Configuration files"
   ]
  },
  {
   "cell_type": "code",
   "execution_count": null,
   "metadata": {},
   "outputs": [],
   "source": [
    "%%writefile fractional_brownian_motion_structure.xml\n",
    "<config>\n",
    "  <fvm>\n",
    "    <name>\n",
    "      fractional_brownian_motion_structure\n",
    "    </name>\n",
    "    <platform>cpu</platform>\n",
    "    <grid>\n",
    "      <lowerCorner>0 0 0</lowerCorner>\n",
    "      <upperCorner>1 0 0</upperCorner>\n",
    "      <dimension>32 1 1</dimension>\n",
    "    </grid>\n",
    "    <boundary>neumann</boundary>\n",
    "    <flux>godunov</flux>\n",
    "    <endTime>.2</endTime>\n",
    "    <equation>burgers</equation>\n",
    "    <reconstruction>none</reconstruction>\n",
    "    <cfl>auto</cfl>\n",
    "    <integrator>auto</integrator>\n",
    "    <initialData>\n",
    "      <python>fractional_brownian_motion_structure.py</python>\n",
    "\n",
    "      <parameters>\n",
    "        <parameter>\n",
    "          <name>X</name>\n",
    "          <length>16384</length>\n",
    "          <values><value>0</value></values>\n",
    "        </parameter>\n",
    "      </parameters>\n",
    "    </initialData>\n",
    "    \n",
    "    <writer>\n",
    "      <basename>fractional_brownian_motion_structure</basename>\n",
    "      <type>netcdf</type>\n",
    "      <numberOfSaves>1</numberOfSaves>\n",
    "    </writer>\n",
    "\n",
    "  </fvm>\n",
    "  <uq>\n",
    "    <samples>16384</samples>\n",
    "    <generator>auto</generator>\n",
    "    <parameters>\n",
    "      <parameter>\n",
    "        <name>X</name>\n",
    "        <length>16384</length>\n",
    "        <type>uniform</type>\n",
    "      </parameter>\n",
    "    </parameters>\n",
    "    <stats>\n",
    "     \n",
    "    </stats>\n",
    "\n",
    "  </uq>\n",
    "</config>"
   ]
  },
  {
   "cell_type": "code",
   "execution_count": null,
   "metadata": {},
   "outputs": [],
   "source": [
    "%%writefile fractional_brownian_motion_structure.py\n",
    "import scipy.stats\n",
    "def init_global(u, nx, ny, nz, ax, ay, az, bx, by, bz):\n",
    "    Y = scipy.stats.norm.ppf(X)\n",
    "    \n",
    "    # This uses the fractional brownian motion library at\n",
    "    # https://github.com/kjetil-lye/fractional_brownian_motion\n",
    "    u[:,0,0] = fbmpy.fractional_brownian_motion_1d(0.01, nx, Y)[:-1]\n",
    "    "
   ]
  },
  {
   "cell_type": "markdown",
   "metadata": {},
   "source": [
    "## Runs"
   ]
  },
  {
   "cell_type": "code",
   "execution_count": null,
   "metadata": {
    "scrolled": false
   },
   "outputs": [],
   "source": [
    "for H in ['0.01']:\n",
    "    basename = run_resolutions('fractional_brownian_motion_structure.xml')\n",
    "    estimateAndPlotScalings(basename, 'fractional_%s_' % H, 4*4096, [1,2,3], maxH=0.01)\n",
    "    #\n",
    "    makeConvergenceStudies(basename, 'fractional_%s_' % H, [1,2,3])\n",
    "    #estimateAndPlotScalings(basename, 'fractional_%s_' % H, 4*4096, [1,2,3], maxH=0.3)\n",
    "    #estimateAndPlotScalings(basename, 'fractional_%s_' % H, 4*4096, [1,2,3], maxH=0.15)\n",
    "    #estimateAndPlotScalings(basename, 'fractional_%s_' % H, 4*4096, [1,2,3], maxH=0.1)\n",
    "    #estimateAndPlotScalings(basename, 'fractional_%s_' % H, 4*4096, [1,2,3], maxH=0.05)\n",
    "    #estimateAndPlotScalings(basename, 'fractional_%s_' % H, 4*4096, [1,2,3], maxH=0.025)\n",
    "\n",
    "    \n",
    "    #plot2Pt(basename, 'fractional_%s_' % H, 1024,0.3)\n",
    "    #plot2Pt(basename, 'fractional_%s_' % H, 1024,0.01)\n",
    "\n",
    "    \n",
    "    #makeConvergenceStudy2Pt(basename, 'fractional_%s_' % H)"
   ]
  },
  {
   "cell_type": "markdown",
   "metadata": {},
   "source": [
    "# Cubic"
   ]
  },
  {
   "cell_type": "code",
   "execution_count": null,
   "metadata": {},
   "outputs": [],
   "source": [
    "%%writefile fractional_brownian_motion_structure_cubic.xml\n",
    "<config>\n",
    "  <fvm>\n",
    "    <name>\n",
    "      fractional_brownian_motion_structure_cubic\n",
    "    </name>\n",
    "    <platform>cpu</platform>\n",
    "    <grid>\n",
    "      <lowerCorner>0 0 0</lowerCorner>\n",
    "      <upperCorner>1 0 0</upperCorner>\n",
    "      <dimension>32 1 1</dimension>\n",
    "    </grid>\n",
    "    <boundary>neumann</boundary>\n",
    "    <flux>godunov</flux>\n",
    "    <endTime>.2</endTime>\n",
    "    <equation>cubic</equation>\n",
    "    <reconstruction>none</reconstruction>\n",
    "    <cfl>auto</cfl>\n",
    "    <integrator>auto</integrator>\n",
    "    <initialData>\n",
    "      <python>fractional_brownian_motion_structure.py</python>\n",
    "\n",
    "      <parameters>\n",
    "        <parameter>\n",
    "          <name>X</name>\n",
    "          <length>16384</length>\n",
    "          <values><value>0</value></values>\n",
    "        </parameter>\n",
    "      </parameters>\n",
    "    </initialData>\n",
    "    \n",
    "    <writer>\n",
    "      <basename>fractional_brownian_motion_structure_cubic</basename>\n",
    "      <type>netcdf</type>\n",
    "      <numberOfSaves>1</numberOfSaves>\n",
    "    </writer>\n",
    "\n",
    "  </fvm>\n",
    "  <uq>\n",
    "    <samples>16384</samples>\n",
    "    <generator>auto</generator>\n",
    "    <parameters>\n",
    "      <parameter>\n",
    "        <name>X</name>\n",
    "        <length>16384</length>\n",
    "        <type>uniform</type>\n",
    "      </parameter>\n",
    "    </parameters>\n",
    "    <stats>\n",
    "     \n",
    "    </stats>\n",
    "\n",
    "  </uq>\n",
    "</config>"
   ]
  },
  {
   "cell_type": "code",
   "execution_count": null,
   "metadata": {},
   "outputs": [],
   "source": [
    "%%writefile fractional_brownian_motion_structure_cubic.py\n",
    "import scipy.stats\n",
    "def init_global(u, nx, ny, nz, ax, ay, az, bx, by, bz):\n",
    "    Y = scipy.stats.norm.ppf(X)\n",
    "    \n",
    "    # This uses the fractional brownian motion library at\n",
    "    # https://github.com/kjetil-lye/fractional_brownian_motion\n",
    "    u[:,0,0] = fbmpy.fractional_brownian_motion_1d(0.01, nx, Y)[:-1]\n",
    "    "
   ]
  },
  {
   "cell_type": "code",
   "execution_count": null,
   "metadata": {},
   "outputs": [],
   "source": [
    "for H in ['0.01']:\n",
    "    basename = run_resolutions('fractional_brownian_motion_structure_cubic.xml')\n",
    "    estimateAndPlotScalings(basename, 'fractional_cubic_%s_' % H, 4*4096, [1,2,3], maxH=0.01)\n",
    "    #\n",
    "    makeConvergenceStudies(basename, 'fractional_cubic_%s_' % H, [1,2,3])\n",
    "    #estimateAndPlotScalings(basename, 'fractional_%s_' % H, 4*4096, [1,2,3], maxH=0.3)\n",
    "    #estimateAndPlotScalings(basename, 'fractional_%s_' % H, 4*4096, [1,2,3], maxH=0.15)\n",
    "    #estimateAndPlotScalings(basename, 'fractional_%s_' % H, 4*4096, [1,2,3], maxH=0.1)\n",
    "    #estimateAndPlotScalings(basename, 'fractional_%s_' % H, 4*4096, [1,2,3], maxH=0.05)\n",
    "    #estimateAndPlotScalings(basename, 'fractional_%s_' % H, 4*4096, [1,2,3], maxH=0.025)\n",
    "\n",
    "    \n",
    "    #plot2Pt(basename, 'fractional_%s_' % H, 1024,0.3)\n",
    "    #plot2Pt(basename, 'fractional_%s_' % H, 1024,0.01)\n",
    "\n",
    "    \n",
    "    #makeConvergenceStudy2Pt(basename, 'fractional_%s_' % H)"
   ]
  },
  {
   "cell_type": "code",
   "execution_count": 12,
   "metadata": {},
   "outputs": [
    {
     "name": "stdout",
     "output_type": "stream",
     "text": [
      "Writing brownian_motion_structure_cubic.xml\n"
     ]
    }
   ],
   "source": [
    "%%writefile brownian_motion_structure_cubic.xml\n",
    "<config>\n",
    "  <fvm>\n",
    "    <name>\n",
    "      brownian_motion_structure_cubic\n",
    "    </name>\n",
    "    <platform>cpu</platform>\n",
    "    <grid>\n",
    "      <lowerCorner>0 0 0</lowerCorner>\n",
    "      <upperCorner>1 0 0</upperCorner>\n",
    "      <dimension>32 1 1</dimension>\n",
    "    </grid>\n",
    "    <boundary>neumann</boundary>\n",
    "    <flux>godunov</flux>\n",
    "    <endTime>.2</endTime>\n",
    "    <equation>burgers</equation>\n",
    "    <reconstruction>none</reconstruction>\n",
    "    <cfl>auto</cfl>\n",
    "    <integrator>auto</integrator>\n",
    "    <initialData>\n",
    "      <python>brownian_motion_structure_cubic.py</python>\n",
    "\n",
    "      <parameters>\n",
    "        <parameter>\n",
    "          <name>X</name>\n",
    "          <length>16384</length>\n",
    "          <values><value>0</value></values>\n",
    "        </parameter>\n",
    "      </parameters>\n",
    "    </initialData>\n",
    "    \n",
    "    <writer>\n",
    "      <basename>brownian_motion_structure_cubic</basename>\n",
    "      <type>netcdf</type>\n",
    "      <numberOfSaves>1</numberOfSaves>\n",
    "    </writer>\n",
    "\n",
    "  </fvm>\n",
    "  <uq>\n",
    "    <samples>16384</samples>\n",
    "    <generator>auto</generator>\n",
    "    <parameters>\n",
    "      <parameter>\n",
    "        <name>X</name>\n",
    "        <length>16384</length>\n",
    "        <type>uniform</type>\n",
    "      </parameter>\n",
    "    </parameters>\n",
    "    <stats>\n",
    "     \n",
    "    </stats>\n",
    "\n",
    "  </uq>\n",
    "</config>"
   ]
  },
  {
   "cell_type": "code",
   "execution_count": 13,
   "metadata": {},
   "outputs": [
    {
     "name": "stdout",
     "output_type": "stream",
     "text": [
      "Writing brownian_motion_structure_cubic.py\n"
     ]
    }
   ],
   "source": [
    "%%writefile brownian_motion_structure_cubic.py\n",
    "import scipy.stats\n",
    "def init_global(u, nx, ny, nz, ax, ay, az, bx, by, bz):\n",
    "    Y = scipy.stats.norm.ppf(X)\n",
    "    \n",
    "    # This uses the fractional brownian motion library at\n",
    "    # https://github.com/kjetil-lye/fractional_brownian_motion\n",
    "    u[:,0,0] = fbmpy.fractional_brownian_motion_1d(0.5, nx, Y)[:-1]\n",
    "    "
   ]
  },
  {
   "cell_type": "code",
   "execution_count": 14,
   "metadata": {},
   "outputs": [
    {
     "name": "stdout",
     "output_type": "stream",
     "text": [
      "Running brownian_motion_structure_cubic.xml at resolution 128\n"
     ]
    },
    {
     "ename": "Exception",
     "evalue": "Error running alsvinncli.\n\n The command used was\n\n\t/home/kjetil/projects/alsvinn_pure/build/alsuqcli/alsuqcli brownian_motion_structure_cubic.xml\n\nThe output was:\n\n----------------\nb'[2019-07-10 10:07:42.795970] [0x00007fef94992500] [info]    Number of GPUs on node: 1\nomp max threads= 12\n'\n----------------\n\nThe error output was:\n\n----------------\nb\"terminate called after throwing an instance of 'boost::python::error_already_set'\n[galerkin:01360] *** Process received signal ***\n[galerkin:01360] Signal: Aborted (6)\n[galerkin:01360] Signal code:  (-6)\n[galerkin:01360] [ 0] /usr/lib/libpthread.so.0(+0x13d00)[0x7fef9d913d00]\n[galerkin:01360] [ 1] /usr/lib/libc.so.6(gsignal+0x145)[0x7fef97a8b755]\n[galerkin:01360] [ 2] /usr/lib/libc.so.6(abort+0x125)[0x7fef97a76851]\n[galerkin:01360] [ 3] /usr/lib/libstdc++.so.6(+0x9581f)[0x7fef97e0b81f]\n[galerkin:01360] [ 4] /usr/lib/libstdc++.so.6(+0xa230a)[0x7fef97e1830a]\n[galerkin:01360] [ 5] /usr/lib/libstdc++.so.6(+0xa2367)[0x7fef97e18367]\n[galerkin:01360] [ 6] /usr/lib/libstdc++.so.6(+0xa25bd)[0x7fef97e185bd]\n[galerkin:01360] [ 7] /usr/lib/libboost_python37.so.1.69.0(+0x261a4)[0x7fef996761a4]\n[galerkin:01360] [ 8] /home/kjetil/projects/alsvinn_pure/build/alsfvm/libalsfvm.so(_ZN6alsfvm6python14handle_pyerrorB5cxx11Ev+0x4ed)[0x7fef9d4f884d]\n[galerkin:01360] [ 9] /home/kjetil/projects/alsvinn_pure/build/alsfvm/libalsfvm.so(+0x1954ad)[0x7fef9d46e4ad]\n[galerkin:01360] [10] /home/kjetil/projects/alsvinn_pure/build/alsfvm/libalsfvm.so(_ZN6alsfvm9simulator9Simulator15setInitialValueERSt10shared_ptrINS_4init11InitialDataEE+0xf1)[0x7fef9d62b761]\n[galerkin:01360] [11] /home/kjetil/projects/alsvinn_pure/build/alsuq/libalsuq.so(_ZN5alsuq3run28FiniteVolumeSimulatorCreator15createSimulatorERKN6alsfvm4init10ParametersEm+0x2c0)[0x7fef9da32af0]\n[galerkin:01360] [12] /home/kjetil/projects/alsvinn_pure/build/alsuq/libalsuq.so(_ZN5alsuq3run6Runner3runEv+0x616)[0x7fef9da343e6]\n[galerkin:01360] [13] /home/kjetil/projects/alsvinn_pure/build/alsuqcli/alsuqcli(main+0xbc6)[0x5590cc55b3e6]\n[galerkin:01360] [14] /usr/lib/libc.so.6(__libc_start_main+0xf3)[0x7fef97a77ee3]\n[galerkin:01360] [15] /home/kjetil/projects/alsvinn_pure/build/alsuqcli/alsuqcli(_start+0x2e)[0x5590cc55bf2e]\n[galerkin:01360] *** End of error message ***\n\"\n\n----------------\n\nAlso check the log files 'alsvinncli_mpi_log_<n>.txt'",
     "output_type": "error",
     "traceback": [
      "\u001b[0;31m---------------------------------------------------------------------------\u001b[0m",
      "\u001b[0;31mException\u001b[0m                                 Traceback (most recent call last)",
      "\u001b[0;32m<ipython-input-14-032656511b1f>\u001b[0m in \u001b[0;36m<module>\u001b[0;34m\u001b[0m\n\u001b[0;32m----> 1\u001b[0;31m \u001b[0mbasename\u001b[0m \u001b[0;34m=\u001b[0m \u001b[0mrun_resolutions\u001b[0m\u001b[0;34m(\u001b[0m\u001b[0;34m'brownian_motion_structure_cubic.xml'\u001b[0m\u001b[0;34m)\u001b[0m\u001b[0;34m\u001b[0m\u001b[0;34m\u001b[0m\u001b[0m\n\u001b[0m\u001b[1;32m      2\u001b[0m \u001b[0mmakeConvergenceStudies\u001b[0m\u001b[0;34m(\u001b[0m\u001b[0mbasename\u001b[0m\u001b[0;34m,\u001b[0m \u001b[0;34m'brownian_cubic'\u001b[0m\u001b[0;34m,\u001b[0m \u001b[0;34m[\u001b[0m\u001b[0;36m1\u001b[0m\u001b[0;34m,\u001b[0m\u001b[0;36m2\u001b[0m\u001b[0;34m,\u001b[0m\u001b[0;36m3\u001b[0m\u001b[0;34m,\u001b[0m\u001b[0;36m4\u001b[0m\u001b[0;34m,\u001b[0m\u001b[0;36m5\u001b[0m\u001b[0;34m]\u001b[0m\u001b[0;34m)\u001b[0m\u001b[0;34m\u001b[0m\u001b[0;34m\u001b[0m\u001b[0m\n\u001b[1;32m      3\u001b[0m \u001b[0;31m#estimateAndPlotScalings(basename, 'brownian', 4*4096, [1,2,3], maxH=0.3)\u001b[0m\u001b[0;34m\u001b[0m\u001b[0;34m\u001b[0m\u001b[0;34m\u001b[0m\u001b[0m\n\u001b[1;32m      4\u001b[0m \u001b[0;31m#estimateAndPlotScalings(basename, 'brownian', 4*4096, [1,2,3], maxH=0.15)\u001b[0m\u001b[0;34m\u001b[0m\u001b[0;34m\u001b[0m\u001b[0;34m\u001b[0m\u001b[0m\n\u001b[1;32m      5\u001b[0m \u001b[0;31m#\u001b[0m\u001b[0;34m\u001b[0m\u001b[0;34m\u001b[0m\u001b[0;34m\u001b[0m\u001b[0m\n",
      "\u001b[0;32m<ipython-input-11-f992ba2b3525>\u001b[0m in \u001b[0;36mrun_resolutions\u001b[0;34m(config_file)\u001b[0m\n\u001b[1;32m     24\u001b[0m                    \u001b[0mdimension\u001b[0m\u001b[0;34m=\u001b[0m\u001b[0;34m[\u001b[0m\u001b[0mresolution\u001b[0m\u001b[0;34m,\u001b[0m \u001b[0;36m1\u001b[0m\u001b[0;34m,\u001b[0m \u001b[0;36m1\u001b[0m\u001b[0;34m]\u001b[0m\u001b[0;34m,\u001b[0m\u001b[0;34m\u001b[0m\u001b[0;34m\u001b[0m\u001b[0m\n\u001b[1;32m     25\u001b[0m                    \u001b[0msamples\u001b[0m\u001b[0;34m=\u001b[0m\u001b[0;36m4\u001b[0m\u001b[0;34m*\u001b[0m\u001b[0;36m4096\u001b[0m\u001b[0;34m,\u001b[0m\u001b[0;34m\u001b[0m\u001b[0;34m\u001b[0m\u001b[0m\n\u001b[0;32m---> 26\u001b[0;31m                    uq=True)\n\u001b[0m\u001b[1;32m     27\u001b[0m         \u001b[0mos\u001b[0m\u001b[0;34m.\u001b[0m\u001b[0mchdir\u001b[0m\u001b[0;34m(\u001b[0m\u001b[0;34m'..'\u001b[0m\u001b[0;34m)\u001b[0m\u001b[0;34m\u001b[0m\u001b[0;34m\u001b[0m\u001b[0m\n\u001b[1;32m     28\u001b[0m \u001b[0;34m\u001b[0m\u001b[0m\n",
      "\u001b[0;32m~/projects/alsvinn_pure/build/python/alsvinn/alsvinn.py\u001b[0m in \u001b[0;36mrun\u001b[0;34m(name, equation, lower_corner, upper_corner, dimension, flux, T, boundary, reconstruction, cfl, integrator, initial_parameters, number_of_saves, initial_data_file, initial_data_script, base_xml, equation_parameters, platform, alsvinncli, alsuqcli, prepend_alsvinncli, omp_num_threads, multix, multiy, multiz, uq, sampleStart, multiSample, statistics, samples, generator, diffusion_operator, diffusion_reconstruction, functionals, write_initial_timestep)\u001b[0m\n\u001b[1;32m    597\u001b[0m     \u001b[0;32mif\u001b[0m \u001b[0mdiffusion_operator\u001b[0m \u001b[0;32mis\u001b[0m \u001b[0;32mnot\u001b[0m \u001b[0;32mNone\u001b[0m\u001b[0;34m:\u001b[0m\u001b[0;34m\u001b[0m\u001b[0;34m\u001b[0m\u001b[0m\n\u001b[1;32m    598\u001b[0m         \u001b[0malsvinn_object\u001b[0m\u001b[0;34m.\u001b[0m\u001b[0mset_diffusion\u001b[0m\u001b[0;34m(\u001b[0m\u001b[0mdiffusion_operator\u001b[0m\u001b[0;34m,\u001b[0m \u001b[0mdiffusion_reconstruction\u001b[0m\u001b[0;34m)\u001b[0m\u001b[0;34m\u001b[0m\u001b[0;34m\u001b[0m\u001b[0m\n\u001b[0;32m--> 599\u001b[0;31m     \u001b[0malsvinn_object\u001b[0m\u001b[0;34m.\u001b[0m\u001b[0mrun\u001b[0m\u001b[0;34m(\u001b[0m\u001b[0mmultix\u001b[0m\u001b[0;34m=\u001b[0m\u001b[0mmultix\u001b[0m\u001b[0;34m,\u001b[0m \u001b[0mmultiy\u001b[0m\u001b[0;34m=\u001b[0m\u001b[0mmultiy\u001b[0m\u001b[0;34m,\u001b[0m\u001b[0mmultiz\u001b[0m\u001b[0;34m=\u001b[0m\u001b[0mmultiz\u001b[0m\u001b[0;34m,\u001b[0m \u001b[0muq\u001b[0m\u001b[0;34m=\u001b[0m\u001b[0muq\u001b[0m\u001b[0;34m,\u001b[0m \u001b[0mmultiSample\u001b[0m\u001b[0;34m=\u001b[0m\u001b[0mmultiSample\u001b[0m\u001b[0;34m)\u001b[0m\u001b[0;34m\u001b[0m\u001b[0;34m\u001b[0m\u001b[0m\n\u001b[0m\u001b[1;32m    600\u001b[0m \u001b[0;34m\u001b[0m\u001b[0m\n\u001b[1;32m    601\u001b[0m     \u001b[0;32mif\u001b[0m \u001b[0minitial_data_file_is_temporary\u001b[0m\u001b[0;34m:\u001b[0m\u001b[0;34m\u001b[0m\u001b[0;34m\u001b[0m\u001b[0m\n",
      "\u001b[0;32m~/projects/alsvinn_pure/build/python/alsvinn/alsvinn.py\u001b[0m in \u001b[0;36mrun\u001b[0;34m(self, multix, multiy, multiz, uq, multiSample)\u001b[0m\n\u001b[1;32m    189\u001b[0m                 \u001b[0mcommand\u001b[0m\u001b[0;34m=\u001b[0m\u001b[0;34m' '\u001b[0m\u001b[0;34m.\u001b[0m\u001b[0mjoin\u001b[0m\u001b[0;34m(\u001b[0m\u001b[0mcommandArray\u001b[0m\u001b[0;34m)\u001b[0m\u001b[0;34m,\u001b[0m \u001b[0moutput\u001b[0m\u001b[0;34m=\u001b[0m\u001b[0mstr\u001b[0m\u001b[0;34m(\u001b[0m\u001b[0moutput\u001b[0m\u001b[0;34m)\u001b[0m\u001b[0;34m.\u001b[0m\u001b[0mreplace\u001b[0m\u001b[0;34m(\u001b[0m\u001b[0;34m'\\\\n'\u001b[0m\u001b[0;34m,\u001b[0m\u001b[0;34m'\\n'\u001b[0m\u001b[0;34m)\u001b[0m\u001b[0;34m,\u001b[0m \u001b[0merror\u001b[0m\u001b[0;34m=\u001b[0m\u001b[0mstr\u001b[0m\u001b[0;34m(\u001b[0m\u001b[0merror\u001b[0m\u001b[0;34m)\u001b[0m\u001b[0;34m.\u001b[0m\u001b[0mreplace\u001b[0m\u001b[0;34m(\u001b[0m\u001b[0;34m'\\\\n'\u001b[0m\u001b[0;34m,\u001b[0m\u001b[0;34m'\\n'\u001b[0m\u001b[0;34m)\u001b[0m\u001b[0;34m\u001b[0m\u001b[0;34m\u001b[0m\u001b[0m\n\u001b[1;32m    190\u001b[0m             )\n\u001b[0;32m--> 191\u001b[0;31m             \u001b[0;32mraise\u001b[0m \u001b[0mException\u001b[0m\u001b[0;34m(\u001b[0m\u001b[0merrorMessage\u001b[0m\u001b[0;34m)\u001b[0m\u001b[0;34m\u001b[0m\u001b[0;34m\u001b[0m\u001b[0m\n\u001b[0m\u001b[1;32m    192\u001b[0m \u001b[0;34m\u001b[0m\u001b[0m\n\u001b[1;32m    193\u001b[0m \u001b[0;34m\u001b[0m\u001b[0m\n",
      "\u001b[0;31mException\u001b[0m: Error running alsvinncli.\n\n The command used was\n\n\t/home/kjetil/projects/alsvinn_pure/build/alsuqcli/alsuqcli brownian_motion_structure_cubic.xml\n\nThe output was:\n\n----------------\nb'[2019-07-10 10:07:42.795970] [0x00007fef94992500] [info]    Number of GPUs on node: 1\nomp max threads= 12\n'\n----------------\n\nThe error output was:\n\n----------------\nb\"terminate called after throwing an instance of 'boost::python::error_already_set'\n[galerkin:01360] *** Process received signal ***\n[galerkin:01360] Signal: Aborted (6)\n[galerkin:01360] Signal code:  (-6)\n[galerkin:01360] [ 0] /usr/lib/libpthread.so.0(+0x13d00)[0x7fef9d913d00]\n[galerkin:01360] [ 1] /usr/lib/libc.so.6(gsignal+0x145)[0x7fef97a8b755]\n[galerkin:01360] [ 2] /usr/lib/libc.so.6(abort+0x125)[0x7fef97a76851]\n[galerkin:01360] [ 3] /usr/lib/libstdc++.so.6(+0x9581f)[0x7fef97e0b81f]\n[galerkin:01360] [ 4] /usr/lib/libstdc++.so.6(+0xa230a)[0x7fef97e1830a]\n[galerkin:01360] [ 5] /usr/lib/libstdc++.so.6(+0xa2367)[0x7fef97e18367]\n[galerkin:01360] [ 6] /usr/lib/libstdc++.so.6(+0xa25bd)[0x7fef97e185bd]\n[galerkin:01360] [ 7] /usr/lib/libboost_python37.so.1.69.0(+0x261a4)[0x7fef996761a4]\n[galerkin:01360] [ 8] /home/kjetil/projects/alsvinn_pure/build/alsfvm/libalsfvm.so(_ZN6alsfvm6python14handle_pyerrorB5cxx11Ev+0x4ed)[0x7fef9d4f884d]\n[galerkin:01360] [ 9] /home/kjetil/projects/alsvinn_pure/build/alsfvm/libalsfvm.so(+0x1954ad)[0x7fef9d46e4ad]\n[galerkin:01360] [10] /home/kjetil/projects/alsvinn_pure/build/alsfvm/libalsfvm.so(_ZN6alsfvm9simulator9Simulator15setInitialValueERSt10shared_ptrINS_4init11InitialDataEE+0xf1)[0x7fef9d62b761]\n[galerkin:01360] [11] /home/kjetil/projects/alsvinn_pure/build/alsuq/libalsuq.so(_ZN5alsuq3run28FiniteVolumeSimulatorCreator15createSimulatorERKN6alsfvm4init10ParametersEm+0x2c0)[0x7fef9da32af0]\n[galerkin:01360] [12] /home/kjetil/projects/alsvinn_pure/build/alsuq/libalsuq.so(_ZN5alsuq3run6Runner3runEv+0x616)[0x7fef9da343e6]\n[galerkin:01360] [13] /home/kjetil/projects/alsvinn_pure/build/alsuqcli/alsuqcli(main+0xbc6)[0x5590cc55b3e6]\n[galerkin:01360] [14] /usr/lib/libc.so.6(__libc_start_main+0xf3)[0x7fef97a77ee3]\n[galerkin:01360] [15] /home/kjetil/projects/alsvinn_pure/build/alsuqcli/alsuqcli(_start+0x2e)[0x5590cc55bf2e]\n[galerkin:01360] *** End of error message ***\n\"\n\n----------------\n\nAlso check the log files 'alsvinncli_mpi_log_<n>.txt'"
     ]
    }
   ],
   "source": [
    "basename = run_resolutions('brownian_motion_structure_cubic.xml')\n",
    "makeConvergenceStudies(basename, 'brownian_cubic', [1,2,3,4,5])\n",
    "#estimateAndPlotScalings(basename, 'brownian', 4*4096, [1,2,3], maxH=0.3)\n",
    "#estimateAndPlotScalings(basename, 'brownian', 4*4096, [1,2,3], maxH=0.15)\n",
    "#\n",
    "#estimateAndPlotScalings(basename, 'brownian', 4*4096, [1,2,3], maxH=0.1)\n",
    "#estimateAndPlotScalings(basename, 'brownian', 4*4096, [1,2,3], maxH=0.05)\n",
    "#estimateAndPlotScalings(basename, 'brownian', 4*4096, [1,2,3], maxH=0.025)\n",
    "estimateAndPlotScalings(basename, 'brownian_cubic', 4*4096, [1,2,3], maxH=0.01)\n",
    "#plot2Pt(basename, 'brownian', 1024,0.3)\n",
    "#plot2Pt(basename, 'brownian', 1024,0.01)\n",
    "\n",
    "#makeConvergenceStudy2Pt(basename, 'brownian')"
   ]
  },
  {
   "cell_type": "code",
   "execution_count": null,
   "metadata": {},
   "outputs": [],
   "source": []
  }
 ],
 "metadata": {
  "kernelspec": {
   "display_name": "Python 3",
   "language": "python",
   "name": "python3"
  },
  "language_info": {
   "codemirror_mode": {
    "name": "ipython",
    "version": 3
   },
   "file_extension": ".py",
   "mimetype": "text/x-python",
   "name": "python",
   "nbconvert_exporter": "python",
   "pygments_lexer": "ipython3",
   "version": "3.7.3"
  }
 },
 "nbformat": 4,
 "nbformat_minor": 2
}
